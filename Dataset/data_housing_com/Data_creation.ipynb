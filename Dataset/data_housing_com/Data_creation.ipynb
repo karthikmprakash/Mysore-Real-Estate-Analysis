{
 "cells": [
  {
   "cell_type": "markdown",
   "metadata": {},
   "source": [
    "# Data Extraction and Scraping from Housing.com\n",
    "___\n",
    "\n",
    "\n",
    "> The link to the website is [here!](https://housing.com/in/buy/searches/M8jP73itnd4i57h4o32k)\n",
    "\n",
    "The ajax responses are manually saved in the jsons.txt file saved in the folder"
   ]
  },
  {
   "cell_type": "code",
   "execution_count": 5,
   "metadata": {},
   "outputs": [],
   "source": [
    "import json\n",
    "import pandas as pd"
   ]
  },
  {
   "cell_type": "code",
   "execution_count": 13,
   "metadata": {},
   "outputs": [],
   "source": [
    "\n",
    "\n",
    "with open('jsons.txt','r',encoding=\"utf8\") as f:\n",
    "    line = f.readlines()\n",
    "    \n",
    "location_list = []\n",
    "beds_list1 = []\n",
    "beds_list2 = []\n",
    "price_list = []\n",
    "area_list = []\n",
    "\n",
    "\n",
    "for n in range(len(line)-1):\n",
    "    if line[n] != '\\n':  \n",
    "        data = json.loads(line[n])['data']\n",
    "        search_result = data['searchResults']\n",
    "        properties = search_result['properties']\n",
    "        #print(properties[5])\n",
    "        \n",
    "        for i in range(len(properties)-1):\n",
    "            location_list.append(properties[i]['address']['address'])\n",
    "            area_list.append(properties[i]['builtUpArea'])\n",
    "            beds_list1.append(properties[i]['title'])\n",
    "            beds_list2.append(properties[i]['subtitle'])\n",
    "            price_list.append(properties[i]['displayPrice']['value'])\n",
    "        \n"
   ]
  },
  {
   "cell_type": "code",
   "execution_count": 16,
   "metadata": {},
   "outputs": [],
   "source": [
    "data_dict = {}\n",
    "data_dict['location'] = location_list\n",
    "data_dict['beds1'] = beds_list1\n",
    "data_dict['beds2'] = beds_list2\n",
    "data_dict['price'] = price_list\n",
    "data_dict['area'] = area_list\n",
    "data_combined = pd.DataFrame(data_dict)\n",
    "data_combined.to_csv('data_housing_com.csv',index=False)"
   ]
  },
  {
   "cell_type": "code",
   "execution_count": null,
   "metadata": {},
   "outputs": [],
   "source": []
  }
 ],
 "metadata": {
  "kernelspec": {
   "display_name": "Python 3",
   "language": "python",
   "name": "python3"
  },
  "language_info": {
   "codemirror_mode": {
    "name": "ipython",
    "version": 3
   },
   "file_extension": ".py",
   "mimetype": "text/x-python",
   "name": "python",
   "nbconvert_exporter": "python",
   "pygments_lexer": "ipython3",
   "version": "3.7.4"
  }
 },
 "nbformat": 4,
 "nbformat_minor": 2
}
