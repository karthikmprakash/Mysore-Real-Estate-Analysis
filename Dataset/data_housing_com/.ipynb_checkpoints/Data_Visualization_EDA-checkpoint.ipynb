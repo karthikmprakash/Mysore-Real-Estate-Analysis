{
 "cells": [
  {
   "cell_type": "code",
   "execution_count": 360,
   "metadata": {},
   "outputs": [],
   "source": [
    "import pandas as pd\n",
    "import numpy as np\n",
    "import seaborn as sns\n",
    "import warnings\n",
    "warnings.simplefilter(action='ignore', category=FutureWarning)\n",
    "import scipy"
   ]
  },
  {
   "cell_type": "code",
   "execution_count": 361,
   "metadata": {},
   "outputs": [],
   "source": [
    "df = pd.read_csv('data_cleaned.csv')"
   ]
  },
  {
   "cell_type": "code",
   "execution_count": 362,
   "metadata": {},
   "outputs": [
    {
     "data": {
      "text/html": [
       "<div>\n",
       "<style scoped>\n",
       "    .dataframe tbody tr th:only-of-type {\n",
       "        vertical-align: middle;\n",
       "    }\n",
       "\n",
       "    .dataframe tbody tr th {\n",
       "        vertical-align: top;\n",
       "    }\n",
       "\n",
       "    .dataframe thead th {\n",
       "        text-align: right;\n",
       "    }\n",
       "</style>\n",
       "<table border=\"1\" class=\"dataframe\">\n",
       "  <thead>\n",
       "    <tr style=\"text-align: right;\">\n",
       "      <th></th>\n",
       "      <th>Location</th>\n",
       "      <th>Beds</th>\n",
       "      <th>Price</th>\n",
       "      <th>Area</th>\n",
       "      <th>Type</th>\n",
       "    </tr>\n",
       "  </thead>\n",
       "  <tbody>\n",
       "    <tr>\n",
       "      <th>0</th>\n",
       "      <td>Kuvempunagar</td>\n",
       "      <td>2</td>\n",
       "      <td>6400000</td>\n",
       "      <td>1010</td>\n",
       "      <td>House</td>\n",
       "    </tr>\n",
       "    <tr>\n",
       "      <th>1</th>\n",
       "      <td>Kuvempunagar</td>\n",
       "      <td>3</td>\n",
       "      <td>9200000</td>\n",
       "      <td>1505</td>\n",
       "      <td>House</td>\n",
       "    </tr>\n",
       "    <tr>\n",
       "      <th>2</th>\n",
       "      <td>Yadavagiri</td>\n",
       "      <td>3</td>\n",
       "      <td>11000000</td>\n",
       "      <td>1650</td>\n",
       "      <td>House</td>\n",
       "    </tr>\n",
       "    <tr>\n",
       "      <th>3</th>\n",
       "      <td>Somanatha Nagar</td>\n",
       "      <td>3</td>\n",
       "      <td>10500000</td>\n",
       "      <td>2000</td>\n",
       "      <td>House</td>\n",
       "    </tr>\n",
       "    <tr>\n",
       "      <th>4</th>\n",
       "      <td>Sardar Vallabh Bhai Patel Nagara</td>\n",
       "      <td>2</td>\n",
       "      <td>8800000</td>\n",
       "      <td>1200</td>\n",
       "      <td>House</td>\n",
       "    </tr>\n",
       "  </tbody>\n",
       "</table>\n",
       "</div>"
      ],
      "text/plain": [
       "                            Location  Beds     Price  Area   Type\n",
       "0                       Kuvempunagar     2   6400000  1010  House\n",
       "1                       Kuvempunagar     3   9200000  1505  House\n",
       "2                         Yadavagiri     3  11000000  1650  House\n",
       "3                    Somanatha Nagar     3  10500000  2000  House\n",
       "4   Sardar Vallabh Bhai Patel Nagara     2   8800000  1200  House"
      ]
     },
     "execution_count": 362,
     "metadata": {},
     "output_type": "execute_result"
    }
   ],
   "source": [
    "df.head()"
   ]
  },
  {
   "cell_type": "code",
   "execution_count": 363,
   "metadata": {},
   "outputs": [
    {
     "data": {
      "text/plain": [
       "10274230.8089701"
      ]
     },
     "execution_count": 363,
     "metadata": {},
     "output_type": "execute_result"
    }
   ],
   "source": [
    "np.mean(df['Price'])"
   ]
  },
  {
   "cell_type": "code",
   "execution_count": 364,
   "metadata": {},
   "outputs": [],
   "source": [
    "df['Price_noramlized'] = [round(x/100000,2) for x in df['Price']]"
   ]
  },
  {
   "cell_type": "code",
   "execution_count": 365,
   "metadata": {},
   "outputs": [],
   "source": [
    "df1 = df.copy()"
   ]
  },
  {
   "cell_type": "code",
   "execution_count": 366,
   "metadata": {},
   "outputs": [
    {
     "data": {
      "text/html": [
       "<div>\n",
       "<style scoped>\n",
       "    .dataframe tbody tr th:only-of-type {\n",
       "        vertical-align: middle;\n",
       "    }\n",
       "\n",
       "    .dataframe tbody tr th {\n",
       "        vertical-align: top;\n",
       "    }\n",
       "\n",
       "    .dataframe thead th {\n",
       "        text-align: right;\n",
       "    }\n",
       "</style>\n",
       "<table border=\"1\" class=\"dataframe\">\n",
       "  <thead>\n",
       "    <tr style=\"text-align: right;\">\n",
       "      <th></th>\n",
       "      <th>Location</th>\n",
       "      <th>Beds</th>\n",
       "      <th>Price</th>\n",
       "      <th>Area</th>\n",
       "      <th>Type</th>\n",
       "      <th>Price_noramlized</th>\n",
       "    </tr>\n",
       "  </thead>\n",
       "  <tbody>\n",
       "    <tr>\n",
       "      <th>9</th>\n",
       "      <td>Basavanahalli</td>\n",
       "      <td>3</td>\n",
       "      <td>6150000</td>\n",
       "      <td>643</td>\n",
       "      <td>Apartment</td>\n",
       "      <td>61.50</td>\n",
       "    </tr>\n",
       "    <tr>\n",
       "      <th>10</th>\n",
       "      <td>Yaraganahalli</td>\n",
       "      <td>3</td>\n",
       "      <td>7455955</td>\n",
       "      <td>796</td>\n",
       "      <td>Apartment</td>\n",
       "      <td>74.56</td>\n",
       "    </tr>\n",
       "    <tr>\n",
       "      <th>14</th>\n",
       "      <td>Sharadadevi Nagar</td>\n",
       "      <td>3</td>\n",
       "      <td>6400000</td>\n",
       "      <td>886</td>\n",
       "      <td>Apartment</td>\n",
       "      <td>64.00</td>\n",
       "    </tr>\n",
       "    <tr>\n",
       "      <th>29</th>\n",
       "      <td>Gaddige Road</td>\n",
       "      <td>3</td>\n",
       "      <td>15800000</td>\n",
       "      <td>691</td>\n",
       "      <td>Apartment</td>\n",
       "      <td>158.00</td>\n",
       "    </tr>\n",
       "    <tr>\n",
       "      <th>35</th>\n",
       "      <td>Metagalli</td>\n",
       "      <td>3</td>\n",
       "      <td>6235000</td>\n",
       "      <td>845</td>\n",
       "      <td>Apartment</td>\n",
       "      <td>62.35</td>\n",
       "    </tr>\n",
       "  </tbody>\n",
       "</table>\n",
       "</div>"
      ],
      "text/plain": [
       "             Location  Beds     Price  Area       Type  Price_noramlized\n",
       "9       Basavanahalli     3   6150000   643  Apartment             61.50\n",
       "10      Yaraganahalli     3   7455955   796  Apartment             74.56\n",
       "14  Sharadadevi Nagar     3   6400000   886  Apartment             64.00\n",
       "29       Gaddige Road     3  15800000   691  Apartment            158.00\n",
       "35          Metagalli     3   6235000   845  Apartment             62.35"
      ]
     },
     "execution_count": 366,
     "metadata": {},
     "output_type": "execute_result"
    }
   ],
   "source": [
    "df1[df1.Area/df.Beds < 300].head()"
   ]
  },
  {
   "cell_type": "code",
   "execution_count": 367,
   "metadata": {},
   "outputs": [],
   "source": [
    "df2 = df1[~(df1.Area/df.Beds < 300)]"
   ]
  },
  {
   "cell_type": "code",
   "execution_count": 368,
   "metadata": {},
   "outputs": [
    {
     "data": {
      "text/plain": [
       "(547, 6)"
      ]
     },
     "execution_count": 368,
     "metadata": {},
     "output_type": "execute_result"
    }
   ],
   "source": [
    "df2.shape"
   ]
  },
  {
   "cell_type": "code",
   "execution_count": 369,
   "metadata": {},
   "outputs": [
    {
     "name": "stderr",
     "output_type": "stream",
     "text": [
      "C:\\ProgramData\\Anaconda3\\lib\\site-packages\\ipykernel_launcher.py:1: SettingWithCopyWarning: \n",
      "A value is trying to be set on a copy of a slice from a DataFrame.\n",
      "Try using .loc[row_indexer,col_indexer] = value instead\n",
      "\n",
      "See the caveats in the documentation: https://pandas.pydata.org/pandas-docs/stable/user_guide/indexing.html#returning-a-view-versus-a-copy\n",
      "  \"\"\"Entry point for launching an IPython kernel.\n"
     ]
    }
   ],
   "source": [
    "df2['PricePerSqft'] = df2['Price'] / df2['Area']"
   ]
  },
  {
   "cell_type": "code",
   "execution_count": 370,
   "metadata": {},
   "outputs": [
    {
     "data": {
      "text/plain": [
       "count      547.000000\n",
       "mean      6389.383770\n",
       "std       3229.673975\n",
       "min      -1081.080000\n",
       "25%       4606.542882\n",
       "50%       5750.000000\n",
       "75%       7340.136054\n",
       "max      45833.333333\n",
       "Name: PricePerSqft, dtype: float64"
      ]
     },
     "execution_count": 370,
     "metadata": {},
     "output_type": "execute_result"
    }
   ],
   "source": [
    "df2['PricePerSqft'].describe()"
   ]
  },
  {
   "cell_type": "code",
   "execution_count": 371,
   "metadata": {},
   "outputs": [],
   "source": [
    "def remove_pps_ourliers(df):\n",
    "    df_out = pd.DataFrame()\n",
    "    for key, subdf in df.groupby('Location'):\n",
    "        avg = np.mean(subdf['PricePerSqft'])\n",
    "        stdev = np.std(subdf['PricePerSqft'])\n",
    "        reduced_df = subdf[(subdf['PricePerSqft'] > (avg-stdev)) & (subdf.PricePerSqft < (avg+stdev)) ]\n",
    "        df_out = pd.concat([df_out,reduced_df],ignore_index=True)\n",
    "    return df_out"
   ]
  },
  {
   "cell_type": "code",
   "execution_count": 372,
   "metadata": {},
   "outputs": [],
   "source": [
    "df3 = remove_pps_ourliers(df2)"
   ]
  },
  {
   "cell_type": "code",
   "execution_count": 373,
   "metadata": {},
   "outputs": [
    {
     "data": {
      "text/plain": [
       "(320, 7)"
      ]
     },
     "execution_count": 373,
     "metadata": {},
     "output_type": "execute_result"
    }
   ],
   "source": [
    "df3.shape"
   ]
  },
  {
   "cell_type": "code",
   "execution_count": 374,
   "metadata": {},
   "outputs": [
    {
     "data": {
      "text/plain": [
       "<matplotlib.axes._subplots.AxesSubplot at 0x21a49bc7c48>"
      ]
     },
     "execution_count": 374,
     "metadata": {},
     "output_type": "execute_result"
    },
    {
     "data": {
      "image/png": "[encoded data removed]",
      "text/plain": [
       "<Figure size 432x288 with 1 Axes>"
      ]
     },
     "metadata": {
      "needs_background": "light"
     },
     "output_type": "display_data"
    }
   ],
   "source": [
    "df3['Price_noramlized'].hist()"
   ]
  },
  {
   "cell_type": "code",
   "execution_count": 375,
   "metadata": {},
   "outputs": [
    {
     "data": {
      "text/html": [
       "<div>\n",
       "<style scoped>\n",
       "    .dataframe tbody tr th:only-of-type {\n",
       "        vertical-align: middle;\n",
       "    }\n",
       "\n",
       "    .dataframe tbody tr th {\n",
       "        vertical-align: top;\n",
       "    }\n",
       "\n",
       "    .dataframe thead th {\n",
       "        text-align: right;\n",
       "    }\n",
       "</style>\n",
       "<table border=\"1\" class=\"dataframe\">\n",
       "  <thead>\n",
       "    <tr style=\"text-align: right;\">\n",
       "      <th></th>\n",
       "      <th>Beds</th>\n",
       "      <th>Price</th>\n",
       "      <th>Area</th>\n",
       "      <th>Price_noramlized</th>\n",
       "      <th>PricePerSqft</th>\n",
       "    </tr>\n",
       "  </thead>\n",
       "  <tbody>\n",
       "    <tr>\n",
       "      <th>count</th>\n",
       "      <td>320.000000</td>\n",
       "      <td>3.200000e+02</td>\n",
       "      <td>320.000000</td>\n",
       "      <td>320.000000</td>\n",
       "      <td>320.000000</td>\n",
       "    </tr>\n",
       "    <tr>\n",
       "      <th>mean</th>\n",
       "      <td>2.815625</td>\n",
       "      <td>9.545695e+06</td>\n",
       "      <td>1625.890625</td>\n",
       "      <td>95.457031</td>\n",
       "      <td>6051.437902</td>\n",
       "    </tr>\n",
       "    <tr>\n",
       "      <th>std</th>\n",
       "      <td>1.190508</td>\n",
       "      <td>5.915030e+06</td>\n",
       "      <td>1001.895563</td>\n",
       "      <td>59.150292</td>\n",
       "      <td>1585.988451</td>\n",
       "    </tr>\n",
       "    <tr>\n",
       "      <th>min</th>\n",
       "      <td>1.000000</td>\n",
       "      <td>2.500000e+06</td>\n",
       "      <td>420.000000</td>\n",
       "      <td>25.000000</td>\n",
       "      <td>2400.000000</td>\n",
       "    </tr>\n",
       "    <tr>\n",
       "      <th>25%</th>\n",
       "      <td>2.000000</td>\n",
       "      <td>5.800000e+06</td>\n",
       "      <td>1100.000000</td>\n",
       "      <td>58.000000</td>\n",
       "      <td>4963.807353</td>\n",
       "    </tr>\n",
       "    <tr>\n",
       "      <th>50%</th>\n",
       "      <td>3.000000</td>\n",
       "      <td>7.500000e+06</td>\n",
       "      <td>1202.000000</td>\n",
       "      <td>75.000000</td>\n",
       "      <td>5818.181818</td>\n",
       "    </tr>\n",
       "    <tr>\n",
       "      <th>75%</th>\n",
       "      <td>3.000000</td>\n",
       "      <td>1.200000e+07</td>\n",
       "      <td>2000.000000</td>\n",
       "      <td>120.000000</td>\n",
       "      <td>6971.518987</td>\n",
       "    </tr>\n",
       "    <tr>\n",
       "      <th>max</th>\n",
       "      <td>10.000000</td>\n",
       "      <td>4.000000e+07</td>\n",
       "      <td>7200.000000</td>\n",
       "      <td>400.000000</td>\n",
       "      <td>11785.714286</td>\n",
       "    </tr>\n",
       "  </tbody>\n",
       "</table>\n",
       "</div>"
      ],
      "text/plain": [
       "             Beds         Price         Area  Price_noramlized  PricePerSqft\n",
       "count  320.000000  3.200000e+02   320.000000        320.000000    320.000000\n",
       "mean     2.815625  9.545695e+06  1625.890625         95.457031   6051.437902\n",
       "std      1.190508  5.915030e+06  1001.895563         59.150292   1585.988451\n",
       "min      1.000000  2.500000e+06   420.000000         25.000000   2400.000000\n",
       "25%      2.000000  5.800000e+06  1100.000000         58.000000   4963.807353\n",
       "50%      3.000000  7.500000e+06  1202.000000         75.000000   5818.181818\n",
       "75%      3.000000  1.200000e+07  2000.000000        120.000000   6971.518987\n",
       "max     10.000000  4.000000e+07  7200.000000        400.000000  11785.714286"
      ]
     },
     "execution_count": 375,
     "metadata": {},
     "output_type": "execute_result"
    }
   ],
   "source": [
    "df3.describe()"
   ]
  },
  {
   "cell_type": "code",
   "execution_count": 376,
   "metadata": {},
   "outputs": [
    {
     "data": {
      "text/html": [
       "<div>\n",
       "<style scoped>\n",
       "    .dataframe tbody tr th:only-of-type {\n",
       "        vertical-align: middle;\n",
       "    }\n",
       "\n",
       "    .dataframe tbody tr th {\n",
       "        vertical-align: top;\n",
       "    }\n",
       "\n",
       "    .dataframe thead th {\n",
       "        text-align: right;\n",
       "    }\n",
       "</style>\n",
       "<table border=\"1\" class=\"dataframe\">\n",
       "  <thead>\n",
       "    <tr style=\"text-align: right;\">\n",
       "      <th></th>\n",
       "      <th>Location</th>\n",
       "      <th>Beds</th>\n",
       "      <th>Price</th>\n",
       "      <th>Area</th>\n",
       "      <th>Type</th>\n",
       "      <th>Price_noramlized</th>\n",
       "      <th>PricePerSqft</th>\n",
       "    </tr>\n",
       "  </thead>\n",
       "  <tbody>\n",
       "    <tr>\n",
       "      <th>0</th>\n",
       "      <td>Alanahalli Village</td>\n",
       "      <td>1</td>\n",
       "      <td>4000000</td>\n",
       "      <td>600</td>\n",
       "      <td>House</td>\n",
       "      <td>40.0</td>\n",
       "      <td>6666.666667</td>\n",
       "    </tr>\n",
       "    <tr>\n",
       "      <th>1</th>\n",
       "      <td>Alanahalli Village</td>\n",
       "      <td>3</td>\n",
       "      <td>8000000</td>\n",
       "      <td>1400</td>\n",
       "      <td>House</td>\n",
       "      <td>80.0</td>\n",
       "      <td>5714.285714</td>\n",
       "    </tr>\n",
       "    <tr>\n",
       "      <th>2</th>\n",
       "      <td>Alanahalli Village</td>\n",
       "      <td>2</td>\n",
       "      <td>7400000</td>\n",
       "      <td>1250</td>\n",
       "      <td>House</td>\n",
       "      <td>74.0</td>\n",
       "      <td>5920.000000</td>\n",
       "    </tr>\n",
       "    <tr>\n",
       "      <th>3</th>\n",
       "      <td>BEML Nagar</td>\n",
       "      <td>3</td>\n",
       "      <td>12000000</td>\n",
       "      <td>2200</td>\n",
       "      <td>House</td>\n",
       "      <td>120.0</td>\n",
       "      <td>5454.545455</td>\n",
       "    </tr>\n",
       "    <tr>\n",
       "      <th>4</th>\n",
       "      <td>BEML Nagar</td>\n",
       "      <td>3</td>\n",
       "      <td>12800000</td>\n",
       "      <td>2200</td>\n",
       "      <td>House</td>\n",
       "      <td>128.0</td>\n",
       "      <td>5818.181818</td>\n",
       "    </tr>\n",
       "  </tbody>\n",
       "</table>\n",
       "</div>"
      ],
      "text/plain": [
       "              Location  Beds     Price  Area   Type  Price_noramlized  \\\n",
       "0   Alanahalli Village     1   4000000   600  House              40.0   \n",
       "1   Alanahalli Village     3   8000000  1400  House              80.0   \n",
       "2   Alanahalli Village     2   7400000  1250  House              74.0   \n",
       "3           BEML Nagar     3  12000000  2200  House             120.0   \n",
       "4           BEML Nagar     3  12800000  2200  House             128.0   \n",
       "\n",
       "   PricePerSqft  \n",
       "0   6666.666667  \n",
       "1   5714.285714  \n",
       "2   5920.000000  \n",
       "3   5454.545455  \n",
       "4   5818.181818  "
      ]
     },
     "execution_count": 376,
     "metadata": {},
     "output_type": "execute_result"
    }
   ],
   "source": [
    "df3.head()"
   ]
  },
  {
   "cell_type": "code",
   "execution_count": 377,
   "metadata": {},
   "outputs": [],
   "source": [
    "data_1 = pd.read_csv('..\\data_99acres\\data_2_merge.csv')"
   ]
  },
  {
   "cell_type": "code",
   "execution_count": 378,
   "metadata": {},
   "outputs": [
    {
     "data": {
      "text/html": [
       "<div>\n",
       "<style scoped>\n",
       "    .dataframe tbody tr th:only-of-type {\n",
       "        vertical-align: middle;\n",
       "    }\n",
       "\n",
       "    .dataframe tbody tr th {\n",
       "        vertical-align: top;\n",
       "    }\n",
       "\n",
       "    .dataframe thead th {\n",
       "        text-align: right;\n",
       "    }\n",
       "</style>\n",
       "<table border=\"1\" class=\"dataframe\">\n",
       "  <thead>\n",
       "    <tr style=\"text-align: right;\">\n",
       "      <th></th>\n",
       "      <th>Location</th>\n",
       "      <th>Beds</th>\n",
       "      <th>Price</th>\n",
       "      <th>Area</th>\n",
       "      <th>PricePerSqft</th>\n",
       "    </tr>\n",
       "  </thead>\n",
       "  <tbody>\n",
       "    <tr>\n",
       "      <th>0</th>\n",
       "      <td>1st Stage Vijayanagar</td>\n",
       "      <td>2</td>\n",
       "      <td>120.0</td>\n",
       "      <td>1500.0</td>\n",
       "      <td>0.080000</td>\n",
       "    </tr>\n",
       "    <tr>\n",
       "      <th>1</th>\n",
       "      <td>1st Stage Vijayanagar</td>\n",
       "      <td>5</td>\n",
       "      <td>68.0</td>\n",
       "      <td>1900.0</td>\n",
       "      <td>0.035789</td>\n",
       "    </tr>\n",
       "    <tr>\n",
       "      <th>2</th>\n",
       "      <td>1st Stage Vijayanagar</td>\n",
       "      <td>5</td>\n",
       "      <td>250.0</td>\n",
       "      <td>2400.0</td>\n",
       "      <td>0.104167</td>\n",
       "    </tr>\n",
       "    <tr>\n",
       "      <th>3</th>\n",
       "      <td>1st Stage Vijayanagar</td>\n",
       "      <td>4</td>\n",
       "      <td>45.0</td>\n",
       "      <td>1200.0</td>\n",
       "      <td>0.037500</td>\n",
       "    </tr>\n",
       "    <tr>\n",
       "      <th>4</th>\n",
       "      <td>1st Stage Vijayanagar</td>\n",
       "      <td>4</td>\n",
       "      <td>25.0</td>\n",
       "      <td>600.0</td>\n",
       "      <td>0.041667</td>\n",
       "    </tr>\n",
       "  </tbody>\n",
       "</table>\n",
       "</div>"
      ],
      "text/plain": [
       "                Location  Beds  Price    Area  PricePerSqft\n",
       "0  1st Stage Vijayanagar     2  120.0  1500.0      0.080000\n",
       "1  1st Stage Vijayanagar     5   68.0  1900.0      0.035789\n",
       "2  1st Stage Vijayanagar     5  250.0  2400.0      0.104167\n",
       "3  1st Stage Vijayanagar     4   45.0  1200.0      0.037500\n",
       "4  1st Stage Vijayanagar     4   25.0   600.0      0.041667"
      ]
     },
     "execution_count": 378,
     "metadata": {},
     "output_type": "execute_result"
    }
   ],
   "source": [
    "data_1.head()"
   ]
  },
  {
   "cell_type": "code",
   "execution_count": 379,
   "metadata": {},
   "outputs": [
    {
     "data": {
      "text/plain": [
       "array(['House', 'Apartment', 'Villa'], dtype=object)"
      ]
     },
     "execution_count": 379,
     "metadata": {},
     "output_type": "execute_result"
    }
   ],
   "source": [
    "df3['Type'].unique()"
   ]
  },
  {
   "cell_type": "code",
   "execution_count": 380,
   "metadata": {},
   "outputs": [],
   "source": [
    "data_2 = df3.drop(['Type'],1)"
   ]
  },
  {
   "cell_type": "code",
   "execution_count": 381,
   "metadata": {},
   "outputs": [],
   "source": [
    "data_2.drop(['Price_noramlized'],1,inplace=True)"
   ]
  },
  {
   "cell_type": "code",
   "execution_count": 382,
   "metadata": {},
   "outputs": [],
   "source": [
    "data_2.Price = round(data_2.Price/100000,2)"
   ]
  },
  {
   "cell_type": "code",
   "execution_count": 383,
   "metadata": {},
   "outputs": [],
   "source": [
    "data_2.PricePerSqft = round(data_2.PricePerSqft/100000,2)"
   ]
  },
  {
   "cell_type": "code",
   "execution_count": 384,
   "metadata": {},
   "outputs": [
    {
     "data": {
      "text/html": [
       "<div>\n",
       "<style scoped>\n",
       "    .dataframe tbody tr th:only-of-type {\n",
       "        vertical-align: middle;\n",
       "    }\n",
       "\n",
       "    .dataframe tbody tr th {\n",
       "        vertical-align: top;\n",
       "    }\n",
       "\n",
       "    .dataframe thead th {\n",
       "        text-align: right;\n",
       "    }\n",
       "</style>\n",
       "<table border=\"1\" class=\"dataframe\">\n",
       "  <thead>\n",
       "    <tr style=\"text-align: right;\">\n",
       "      <th></th>\n",
       "      <th>Location</th>\n",
       "      <th>Beds</th>\n",
       "      <th>Price</th>\n",
       "      <th>Area</th>\n",
       "      <th>PricePerSqft</th>\n",
       "    </tr>\n",
       "  </thead>\n",
       "  <tbody>\n",
       "    <tr>\n",
       "      <th>0</th>\n",
       "      <td>Alanahalli Village</td>\n",
       "      <td>1</td>\n",
       "      <td>40.0</td>\n",
       "      <td>600</td>\n",
       "      <td>0.07</td>\n",
       "    </tr>\n",
       "    <tr>\n",
       "      <th>1</th>\n",
       "      <td>Alanahalli Village</td>\n",
       "      <td>3</td>\n",
       "      <td>80.0</td>\n",
       "      <td>1400</td>\n",
       "      <td>0.06</td>\n",
       "    </tr>\n",
       "    <tr>\n",
       "      <th>2</th>\n",
       "      <td>Alanahalli Village</td>\n",
       "      <td>2</td>\n",
       "      <td>74.0</td>\n",
       "      <td>1250</td>\n",
       "      <td>0.06</td>\n",
       "    </tr>\n",
       "    <tr>\n",
       "      <th>3</th>\n",
       "      <td>BEML Nagar</td>\n",
       "      <td>3</td>\n",
       "      <td>120.0</td>\n",
       "      <td>2200</td>\n",
       "      <td>0.05</td>\n",
       "    </tr>\n",
       "    <tr>\n",
       "      <th>4</th>\n",
       "      <td>BEML Nagar</td>\n",
       "      <td>3</td>\n",
       "      <td>128.0</td>\n",
       "      <td>2200</td>\n",
       "      <td>0.06</td>\n",
       "    </tr>\n",
       "  </tbody>\n",
       "</table>\n",
       "</div>"
      ],
      "text/plain": [
       "              Location  Beds  Price  Area  PricePerSqft\n",
       "0   Alanahalli Village     1   40.0   600          0.07\n",
       "1   Alanahalli Village     3   80.0  1400          0.06\n",
       "2   Alanahalli Village     2   74.0  1250          0.06\n",
       "3           BEML Nagar     3  120.0  2200          0.05\n",
       "4           BEML Nagar     3  128.0  2200          0.06"
      ]
     },
     "execution_count": 384,
     "metadata": {},
     "output_type": "execute_result"
    }
   ],
   "source": [
    "data_2.head()"
   ]
  },
  {
   "cell_type": "code",
   "execution_count": 385,
   "metadata": {},
   "outputs": [],
   "source": [
    "data = pd.concat([data_1,data_2])"
   ]
  },
  {
   "cell_type": "code",
   "execution_count": 386,
   "metadata": {},
   "outputs": [],
   "source": [
    "data = data[~(data['Location'] == 'Sr')]"
   ]
  },
  {
   "cell_type": "code",
   "execution_count": 387,
   "metadata": {},
   "outputs": [
    {
     "data": {
      "text/html": [
       "<div>\n",
       "<style scoped>\n",
       "    .dataframe tbody tr th:only-of-type {\n",
       "        vertical-align: middle;\n",
       "    }\n",
       "\n",
       "    .dataframe tbody tr th {\n",
       "        vertical-align: top;\n",
       "    }\n",
       "\n",
       "    .dataframe thead th {\n",
       "        text-align: right;\n",
       "    }\n",
       "</style>\n",
       "<table border=\"1\" class=\"dataframe\">\n",
       "  <thead>\n",
       "    <tr style=\"text-align: right;\">\n",
       "      <th></th>\n",
       "      <th>Beds</th>\n",
       "      <th>Price</th>\n",
       "      <th>Area</th>\n",
       "      <th>PricePerSqft</th>\n",
       "    </tr>\n",
       "  </thead>\n",
       "  <tbody>\n",
       "    <tr>\n",
       "      <th>count</th>\n",
       "      <td>593.000000</td>\n",
       "      <td>593.000000</td>\n",
       "      <td>593.000000</td>\n",
       "      <td>593.000000</td>\n",
       "    </tr>\n",
       "    <tr>\n",
       "      <th>mean</th>\n",
       "      <td>2.935919</td>\n",
       "      <td>99.160641</td>\n",
       "      <td>2323.586003</td>\n",
       "      <td>0.088376</td>\n",
       "    </tr>\n",
       "    <tr>\n",
       "      <th>std</th>\n",
       "      <td>1.279757</td>\n",
       "      <td>67.129650</td>\n",
       "      <td>10186.169945</td>\n",
       "      <td>0.505499</td>\n",
       "    </tr>\n",
       "    <tr>\n",
       "      <th>min</th>\n",
       "      <td>1.000000</td>\n",
       "      <td>15.000000</td>\n",
       "      <td>12.000000</td>\n",
       "      <td>0.000149</td>\n",
       "    </tr>\n",
       "    <tr>\n",
       "      <th>25%</th>\n",
       "      <td>2.000000</td>\n",
       "      <td>60.000000</td>\n",
       "      <td>1100.000000</td>\n",
       "      <td>0.049013</td>\n",
       "    </tr>\n",
       "    <tr>\n",
       "      <th>50%</th>\n",
       "      <td>3.000000</td>\n",
       "      <td>78.000000</td>\n",
       "      <td>1225.000000</td>\n",
       "      <td>0.060000</td>\n",
       "    </tr>\n",
       "    <tr>\n",
       "      <th>75%</th>\n",
       "      <td>3.000000</td>\n",
       "      <td>120.000000</td>\n",
       "      <td>2000.000000</td>\n",
       "      <td>0.079167</td>\n",
       "    </tr>\n",
       "    <tr>\n",
       "      <th>max</th>\n",
       "      <td>12.000000</td>\n",
       "      <td>700.000000</td>\n",
       "      <td>174240.000000</td>\n",
       "      <td>12.333333</td>\n",
       "    </tr>\n",
       "  </tbody>\n",
       "</table>\n",
       "</div>"
      ],
      "text/plain": [
       "             Beds       Price           Area  PricePerSqft\n",
       "count  593.000000  593.000000     593.000000    593.000000\n",
       "mean     2.935919   99.160641    2323.586003      0.088376\n",
       "std      1.279757   67.129650   10186.169945      0.505499\n",
       "min      1.000000   15.000000      12.000000      0.000149\n",
       "25%      2.000000   60.000000    1100.000000      0.049013\n",
       "50%      3.000000   78.000000    1225.000000      0.060000\n",
       "75%      3.000000  120.000000    2000.000000      0.079167\n",
       "max     12.000000  700.000000  174240.000000     12.333333"
      ]
     },
     "execution_count": 387,
     "metadata": {},
     "output_type": "execute_result"
    }
   ],
   "source": [
    "data.describe()"
   ]
  },
  {
   "cell_type": "code",
   "execution_count": 388,
   "metadata": {},
   "outputs": [
    {
     "data": {
      "text/plain": [
       "Location        106\n",
       "Beds             10\n",
       "Price           167\n",
       "Area            203\n",
       "PricePerSqft    229\n",
       "dtype: int64"
      ]
     },
     "execution_count": 388,
     "metadata": {},
     "output_type": "execute_result"
    }
   ],
   "source": [
    "data.nunique()"
   ]
  },
  {
   "cell_type": "code",
   "execution_count": 389,
   "metadata": {},
   "outputs": [],
   "source": [
    "location_stats = data.groupby('Location')['Location'].agg('count').sort_values(ascending=False)"
   ]
  },
  {
   "cell_type": "code",
   "execution_count": 390,
   "metadata": {},
   "outputs": [
    {
     "data": {
      "text/plain": [
       "Location\n",
       "Fort Mohalla                        2\n",
       "Basavanahalli                       2\n",
       "Yaraganahalli                       2\n",
       " Deepanagar                         2\n",
       "Vishweshwara Nagar                  2\n",
       " BEML Nagar                         2\n",
       "Srirangapatna                       2\n",
       "Gokulam                             2\n",
       "Gayathripuram                       2\n",
       "Madagalli                           2\n",
       "Mandi Mohalla                       2\n",
       "Chamrajpura                         2\n",
       "Bunnymantap                         2\n",
       "N R Mohalla                         2\n",
       "Elivala                             2\n",
       "Police layout                       2\n",
       "Rajarajeshwari Nagar                2\n",
       "Chamarajapuram Mohalla              2\n",
       "Sardar Vallabh Bhai Patel Nagara    2\n",
       "Mysore                              1\n",
       "Rajendra Nagar                      1\n",
       "Siddharthanagar                     1\n",
       "Hanchya                             1\n",
       "Huyilalu                            1\n",
       " Kesare                             1\n",
       " KC Layout                          1\n",
       " Hulikere                           1\n",
       " Hebbal 2nd Stage                   1\n",
       "Siddhartha Layout                   1\n",
       "Deepanagar                          1\n",
       "Vivekananda Nagar                   1\n",
       "Jss Layout                          1\n",
       "Sharadadevi Nagar                   1\n",
       "Allanahalli Layout                  1\n",
       "Sardar Vallabh Bhai Patel Nagar     1\n",
       "Name: Location, dtype: int64"
      ]
     },
     "execution_count": 390,
     "metadata": {},
     "output_type": "execute_result"
    }
   ],
   "source": [
    "location_stats[location_stats <= 2]"
   ]
  },
  {
   "cell_type": "code",
   "execution_count": 391,
   "metadata": {},
   "outputs": [],
   "source": [
    "import seaborn as sns\n",
    "import matplotlib.pyplot as plt"
   ]
  },
  {
   "cell_type": "code",
   "execution_count": 392,
   "metadata": {},
   "outputs": [
    {
     "data": {
      "image/png": "[encoded data removed]",
      "text/plain": [
       "<Figure size 576x432 with 2 Axes>"
      ]
     },
     "metadata": {
      "needs_background": "light"
     },
     "output_type": "display_data"
    }
   ],
   "source": [
    "plt.figure(figsize=(8,6))\n",
    "sns.heatmap(data.corr())\n",
    "plt.show()"
   ]
  },
  {
   "cell_type": "code",
   "execution_count": 393,
   "metadata": {},
   "outputs": [
    {
     "data": {
      "text/plain": [
       "<matplotlib.axes._subplots.AxesSubplot at 0x21a496b6588>"
      ]
     },
     "execution_count": 393,
     "metadata": {},
     "output_type": "execute_result"
    },
    {
     "data": {
      "image/png": "[encoded data removed]",
      "text/plain": [
       "<Figure size 432x288 with 1 Axes>"
      ]
     },
     "metadata": {
      "needs_background": "light"
     },
     "output_type": "display_data"
    }
   ],
   "source": [
    "sns.boxplot(data['Price'],)"
   ]
  },
  {
   "cell_type": "code",
   "execution_count": 394,
   "metadata": {},
   "outputs": [
    {
     "data": {
      "text/plain": [
       "<matplotlib.axes._subplots.AxesSubplot at 0x21a49e47388>"
      ]
     },
     "execution_count": 394,
     "metadata": {},
     "output_type": "execute_result"
    },
    {
     "data": {
      "image/png": "[encoded data removed]",
      "text/plain": [
       "<Figure size 432x288 with 1 Axes>"
      ]
     },
     "metadata": {
      "needs_background": "light"
     },
     "output_type": "display_data"
    }
   ],
   "source": [
    "sns.regplot( data.Beds,data.Price ) "
   ]
  },
  {
   "cell_type": "code",
   "execution_count": 395,
   "metadata": {},
   "outputs": [
    {
     "data": {
      "text/plain": [
       "<matplotlib.axes._subplots.AxesSubplot at 0x21a49eb4188>"
      ]
     },
     "execution_count": 395,
     "metadata": {},
     "output_type": "execute_result"
    },
    {
     "data": {
      "image/png": "[encoded data removed]",
      "text/plain": [
       "<Figure size 432x288 with 1 Axes>"
      ]
     },
     "metadata": {
      "needs_background": "light"
     },
     "output_type": "display_data"
    }
   ],
   "source": [
    "sns.barplot(x = data.Beds, y = data.Price)"
   ]
  },
  {
   "cell_type": "code",
   "execution_count": 396,
   "metadata": {},
   "outputs": [
    {
     "data": {
      "text/plain": [
       "<seaborn.axisgrid.PairGrid at 0x21a49f1e608>"
      ]
     },
     "execution_count": 396,
     "metadata": {},
     "output_type": "execute_result"
    },
    {
     "data": {
      "image/png": "[encoded data removed]",
      "text/plain": [
       "<Figure size 720x720 with 20 Axes>"
      ]
     },
     "metadata": {
      "needs_background": "light"
     },
     "output_type": "display_data"
    }
   ],
   "source": [
    "sns.pairplot(data)"
   ]
  },
  {
   "cell_type": "code",
   "execution_count": 433,
   "metadata": {},
   "outputs": [],
   "source": [
    "#data_encode = pd.get_dummies(data)\n",
    "data_encode = data"
   ]
  },
  {
   "cell_type": "code",
   "execution_count": 434,
   "metadata": {},
   "outputs": [
    {
     "data": {
      "text/html": [
       "<div>\n",
       "<style scoped>\n",
       "    .dataframe tbody tr th:only-of-type {\n",
       "        vertical-align: middle;\n",
       "    }\n",
       "\n",
       "    .dataframe tbody tr th {\n",
       "        vertical-align: top;\n",
       "    }\n",
       "\n",
       "    .dataframe thead th {\n",
       "        text-align: right;\n",
       "    }\n",
       "</style>\n",
       "<table border=\"1\" class=\"dataframe\">\n",
       "  <thead>\n",
       "    <tr style=\"text-align: right;\">\n",
       "      <th></th>\n",
       "      <th>Location</th>\n",
       "      <th>Beds</th>\n",
       "      <th>Price</th>\n",
       "      <th>Area</th>\n",
       "      <th>PricePerSqft</th>\n",
       "    </tr>\n",
       "  </thead>\n",
       "  <tbody>\n",
       "    <tr>\n",
       "      <th>0</th>\n",
       "      <td>1st Stage Vijayanagar</td>\n",
       "      <td>2</td>\n",
       "      <td>120.0</td>\n",
       "      <td>1500.0</td>\n",
       "      <td>0.080000</td>\n",
       "    </tr>\n",
       "    <tr>\n",
       "      <th>1</th>\n",
       "      <td>1st Stage Vijayanagar</td>\n",
       "      <td>5</td>\n",
       "      <td>68.0</td>\n",
       "      <td>1900.0</td>\n",
       "      <td>0.035789</td>\n",
       "    </tr>\n",
       "    <tr>\n",
       "      <th>2</th>\n",
       "      <td>1st Stage Vijayanagar</td>\n",
       "      <td>5</td>\n",
       "      <td>250.0</td>\n",
       "      <td>2400.0</td>\n",
       "      <td>0.104167</td>\n",
       "    </tr>\n",
       "  </tbody>\n",
       "</table>\n",
       "</div>"
      ],
      "text/plain": [
       "                Location  Beds  Price    Area  PricePerSqft\n",
       "0  1st Stage Vijayanagar     2  120.0  1500.0      0.080000\n",
       "1  1st Stage Vijayanagar     5   68.0  1900.0      0.035789\n",
       "2  1st Stage Vijayanagar     5  250.0  2400.0      0.104167"
      ]
     },
     "execution_count": 434,
     "metadata": {},
     "output_type": "execute_result"
    }
   ],
   "source": [
    "data_encode.head(3)"
   ]
  },
  {
   "cell_type": "code",
   "execution_count": 435,
   "metadata": {},
   "outputs": [
    {
     "data": {
      "text/plain": [
       "(593, 5)"
      ]
     },
     "execution_count": 435,
     "metadata": {},
     "output_type": "execute_result"
    }
   ],
   "source": [
    "data_encode.shape"
   ]
  },
  {
   "cell_type": "code",
   "execution_count": 436,
   "metadata": {},
   "outputs": [],
   "source": [
    "X = data_encode.drop(['Price','Location'],axis = 'columns')\n",
    "#X = data_encode.drop(['Price'],axis = 'columns')"
   ]
  },
  {
   "cell_type": "code",
   "execution_count": 437,
   "metadata": {},
   "outputs": [],
   "source": [
    "from sklearn import preprocessing\n",
    "#X = preprocessing.scale(X)"
   ]
  },
  {
   "cell_type": "code",
   "execution_count": 438,
   "metadata": {},
   "outputs": [
    {
     "data": {
      "text/plain": [
       "0    120.0\n",
       "1     68.0\n",
       "2    250.0\n",
       "3     45.0\n",
       "4     25.0\n",
       "Name: Price, dtype: float64"
      ]
     },
     "execution_count": 438,
     "metadata": {},
     "output_type": "execute_result"
    }
   ],
   "source": [
    "y = data_encode.Price\n",
    "y.head()"
   ]
  },
  {
   "cell_type": "code",
   "execution_count": 439,
   "metadata": {},
   "outputs": [],
   "source": [
    "from sklearn.model_selection import train_test_split\n",
    "\n",
    "X_train,X_test,y_train,y_test = train_test_split(X,y,test_size=0.05,random_state=10)"
   ]
  },
  {
   "cell_type": "code",
   "execution_count": 440,
   "metadata": {},
   "outputs": [
    {
     "data": {
      "text/plain": [
       "0.036124116967342634"
      ]
     },
     "execution_count": 440,
     "metadata": {},
     "output_type": "execute_result"
    }
   ],
   "source": [
    "from sklearn.linear_model import LinearRegression\n",
    "\n",
    "lnr_clf = LinearRegression()\n",
    "lnr_clf.fit(X_train,y_train)\n",
    "lnr_clf.score(X_test,y_test)"
   ]
  },
  {
   "cell_type": "code",
   "execution_count": 441,
   "metadata": {},
   "outputs": [
    {
     "data": {
      "text/plain": [
       "array([-8.16612030e+01,  2.28683432e-02,  1.77482237e-01,  5.02336013e-02,\n",
       "        2.21316197e-01])"
      ]
     },
     "execution_count": 441,
     "metadata": {},
     "output_type": "execute_result"
    }
   ],
   "source": [
    "from sklearn.model_selection import ShuffleSplit\n",
    "from sklearn.model_selection import cross_val_score\n",
    "\n",
    "cv = ShuffleSplit(n_splits=5, test_size=0.2, random_state=0)\n",
    "cross_val_score(LinearRegression(),X,y,cv=cv)"
   ]
  },
  {
   "cell_type": "code",
   "execution_count": 442,
   "metadata": {},
   "outputs": [
    {
     "data": {
      "text/html": [
       "<div>\n",
       "<style scoped>\n",
       "    .dataframe tbody tr th:only-of-type {\n",
       "        vertical-align: middle;\n",
       "    }\n",
       "\n",
       "    .dataframe tbody tr th {\n",
       "        vertical-align: top;\n",
       "    }\n",
       "\n",
       "    .dataframe thead th {\n",
       "        text-align: right;\n",
       "    }\n",
       "</style>\n",
       "<table border=\"1\" class=\"dataframe\">\n",
       "  <thead>\n",
       "    <tr style=\"text-align: right;\">\n",
       "      <th></th>\n",
       "      <th>model</th>\n",
       "      <th>best_score</th>\n",
       "      <th>best_params</th>\n",
       "    </tr>\n",
       "  </thead>\n",
       "  <tbody>\n",
       "    <tr>\n",
       "      <th>0</th>\n",
       "      <td>linear_regression</td>\n",
       "      <td>-2.509911</td>\n",
       "      <td>{'normalize': False}</td>\n",
       "    </tr>\n",
       "    <tr>\n",
       "      <th>1</th>\n",
       "      <td>lasso</td>\n",
       "      <td>-2.606334</td>\n",
       "      <td>{'alpha': 1, 'selection': 'cyclic'}</td>\n",
       "    </tr>\n",
       "    <tr>\n",
       "      <th>2</th>\n",
       "      <td>decision_tree</td>\n",
       "      <td>0.871392</td>\n",
       "      <td>{'criterion': 'mae', 'splitter': 'best'}</td>\n",
       "    </tr>\n",
       "  </tbody>\n",
       "</table>\n",
       "</div>"
      ],
      "text/plain": [
       "               model  best_score                               best_params\n",
       "0  linear_regression   -2.509911                      {'normalize': False}\n",
       "1              lasso   -2.606334       {'alpha': 1, 'selection': 'cyclic'}\n",
       "2      decision_tree    0.871392  {'criterion': 'mae', 'splitter': 'best'}"
      ]
     },
     "execution_count": 442,
     "metadata": {},
     "output_type": "execute_result"
    }
   ],
   "source": [
    "from sklearn.model_selection import GridSearchCV\n",
    "\n",
    "from sklearn.linear_model import Lasso\n",
    "from sklearn.tree import DecisionTreeRegressor\n",
    "\n",
    "def find_best_model_using_gridsearchcv(X,y):\n",
    "    algos = {\n",
    "        'linear_regression' : {\n",
    "            'model': LinearRegression(),\n",
    "            'params': {\n",
    "                'normalize': [True, False]\n",
    "            }\n",
    "        },\n",
    "        'lasso': {\n",
    "            'model': Lasso(),\n",
    "            'params': {\n",
    "                'alpha': [1,2],\n",
    "                'selection': ['random', 'cyclic']\n",
    "            }\n",
    "        },\n",
    "        'decision_tree': {\n",
    "            'model': DecisionTreeRegressor(),\n",
    "            'params': {\n",
    "                'criterion' : ['mse','friedman_mse','mae'],\n",
    "                'splitter': ['best','random']\n",
    "            }\n",
    "        }\n",
    "    }\n",
    "    scores = []\n",
    "    cv = ShuffleSplit(n_splits=4, test_size=0.2, random_state=20)\n",
    "    for algo_name, config in algos.items():\n",
    "        gs =  GridSearchCV(config['model'], config['params'], cv=cv, return_train_score=False)\n",
    "        gs.fit(X,y)\n",
    "        scores.append({\n",
    "            'model': algo_name,\n",
    "            'best_score': gs.best_score_,\n",
    "            'best_params': gs.best_params_\n",
    "        })\n",
    "\n",
    "    return pd.DataFrame(scores,columns=['model','best_score','best_params'])\n",
    "\n",
    "find_best_model_using_gridsearchcv(X,y)\n"
   ]
  },
  {
   "cell_type": "code",
   "execution_count": 456,
   "metadata": {},
   "outputs": [
    {
     "name": "stdout",
     "output_type": "stream",
     "text": [
      "0.8735927360568191 {'criterion': 'mae', 'splitter': 'best'}\n"
     ]
    }
   ],
   "source": [
    "config = {\n",
    "            'model': DecisionTreeRegressor(),\n",
    "            'params': {\n",
    "                'criterion' : ['mse','friedman_mse','mae'],\n",
    "                'splitter': ['best','random']\n",
    "            }\n",
    "}\n",
    "\n",
    "cv = ShuffleSplit(n_splits=4, test_size=0.2, random_state=20)\n",
    "gs =  GridSearchCV(DecisionTreeRegressor(),config['params'], cv=cv, return_train_score=False)\n",
    "gs.fit(X,y)\n",
    "print(gs.best_score_,gs.best_params_)"
   ]
  },
  {
   "cell_type": "markdown",
   "metadata": {},
   "source": [
    "## Test the model for few properties"
   ]
  },
  {
   "cell_type": "code",
   "execution_count": 459,
   "metadata": {},
   "outputs": [
    {
     "data": {
      "text/html": [
       "<div>\n",
       "<style scoped>\n",
       "    .dataframe tbody tr th:only-of-type {\n",
       "        vertical-align: middle;\n",
       "    }\n",
       "\n",
       "    .dataframe tbody tr th {\n",
       "        vertical-align: top;\n",
       "    }\n",
       "\n",
       "    .dataframe thead th {\n",
       "        text-align: right;\n",
       "    }\n",
       "</style>\n",
       "<table border=\"1\" class=\"dataframe\">\n",
       "  <thead>\n",
       "    <tr style=\"text-align: right;\">\n",
       "      <th></th>\n",
       "      <th>Beds</th>\n",
       "      <th>Area</th>\n",
       "      <th>PricePerSqft</th>\n",
       "    </tr>\n",
       "  </thead>\n",
       "  <tbody>\n",
       "    <tr>\n",
       "      <th>0</th>\n",
       "      <td>2</td>\n",
       "      <td>1500.0</td>\n",
       "      <td>0.080000</td>\n",
       "    </tr>\n",
       "    <tr>\n",
       "      <th>1</th>\n",
       "      <td>5</td>\n",
       "      <td>1900.0</td>\n",
       "      <td>0.035789</td>\n",
       "    </tr>\n",
       "    <tr>\n",
       "      <th>2</th>\n",
       "      <td>5</td>\n",
       "      <td>2400.0</td>\n",
       "      <td>0.104167</td>\n",
       "    </tr>\n",
       "    <tr>\n",
       "      <th>3</th>\n",
       "      <td>4</td>\n",
       "      <td>1200.0</td>\n",
       "      <td>0.037500</td>\n",
       "    </tr>\n",
       "    <tr>\n",
       "      <th>4</th>\n",
       "      <td>4</td>\n",
       "      <td>600.0</td>\n",
       "      <td>0.041667</td>\n",
       "    </tr>\n",
       "    <tr>\n",
       "      <th>...</th>\n",
       "      <td>...</td>\n",
       "      <td>...</td>\n",
       "      <td>...</td>\n",
       "    </tr>\n",
       "    <tr>\n",
       "      <th>315</th>\n",
       "      <td>2</td>\n",
       "      <td>1183.0</td>\n",
       "      <td>0.050000</td>\n",
       "    </tr>\n",
       "    <tr>\n",
       "      <th>316</th>\n",
       "      <td>3</td>\n",
       "      <td>1116.0</td>\n",
       "      <td>0.070000</td>\n",
       "    </tr>\n",
       "    <tr>\n",
       "      <th>317</th>\n",
       "      <td>3</td>\n",
       "      <td>967.0</td>\n",
       "      <td>0.050000</td>\n",
       "    </tr>\n",
       "    <tr>\n",
       "      <th>318</th>\n",
       "      <td>3</td>\n",
       "      <td>1265.0</td>\n",
       "      <td>0.080000</td>\n",
       "    </tr>\n",
       "    <tr>\n",
       "      <th>319</th>\n",
       "      <td>3</td>\n",
       "      <td>1350.0</td>\n",
       "      <td>0.070000</td>\n",
       "    </tr>\n",
       "  </tbody>\n",
       "</table>\n",
       "<p>593 rows × 3 columns</p>\n",
       "</div>"
      ],
      "text/plain": [
       "     Beds    Area  PricePerSqft\n",
       "0       2  1500.0      0.080000\n",
       "1       5  1900.0      0.035789\n",
       "2       5  2400.0      0.104167\n",
       "3       4  1200.0      0.037500\n",
       "4       4   600.0      0.041667\n",
       "..    ...     ...           ...\n",
       "315     2  1183.0      0.050000\n",
       "316     3  1116.0      0.070000\n",
       "317     3   967.0      0.050000\n",
       "318     3  1265.0      0.080000\n",
       "319     3  1350.0      0.070000\n",
       "\n",
       "[593 rows x 3 columns]"
      ]
     },
     "execution_count": 459,
     "metadata": {},
     "output_type": "execute_result"
    }
   ],
   "source": [
    "X"
   ]
  },
  {
   "cell_type": "code",
   "execution_count": 458,
   "metadata": {},
   "outputs": [
    {
     "data": {
      "text/plain": [
       "array([120.   ,  68.   , 250.   ,  45.   ,  25.   , 129.   ,  35.   ,\n",
       "        72.   , 136.   ,  46.   , 150.   , 115.   ,  45.   , 165.   ,\n",
       "        55.   , 128.   ,  90.   , 100.   ,  52.   , 140.   ,  65.   ,\n",
       "       225.   , 120.   , 200.   , 195.   ,  90.   , 120.   ,  50.   ,\n",
       "        85.   ,  75.   ,  84.5  ,  70.   ,  49.   ,  75.   ,  54.   ,\n",
       "       150.   ,  55.   ,  35.   , 100.   ,  35.   ,  68.   , 360.   ,\n",
       "        59.   ,  38.   , 123.   ,  26.   ,  65.   , 125.   , 148.   ,\n",
       "        22.5  , 110.   ,  95.   ,  65.   , 220.   ,  60.   ,  72.   ,\n",
       "        62.   ,  62.   ,  44.   ,  80.   ,  72.   ,  60.   ,  54.   ,\n",
       "       190.   ,  90.   ,  65.   , 400.   ,  80.   , 105.   ,  85.   ,\n",
       "        60.2  ,  86.   ,  55.   ,  50.   ,  75.   , 120.   ,  65.   ,\n",
       "        86.   , 225.   ,  95.   , 190.   , 142.   ,  85.   ,  70.   ,\n",
       "        72.   , 172.   ,  34.   ,  50.   ,  50.   ,  65.   , 120.   ,\n",
       "        78.   ,  25.   ,  44.99 , 120.   , 330.   ,  62.   ,  60.   ,\n",
       "       115.   ,  75.   ,  66.25 ,  74.   ,  72.   ,  95.   ,  60.   ,\n",
       "        55.   , 130.   ,  85.   ,  52.   ,  70.   ,  55.   ,  75.   ,\n",
       "        93.75 ,  62.   , 120.   , 160.   , 150.   , 125.   ,  68.5  ,\n",
       "        54.   ,  86.5  , 125.   , 250.   , 130.   ,  62.   , 160.   ,\n",
       "        85.   ,  76.   ,  65.   ,  78.   , 400.   , 117.   ,  78.   ,\n",
       "        95.   , 100.   ,  55.   , 220.   ,  68.   , 100.   ,  85.   ,\n",
       "        55.   , 130.   , 333.   ,  46.   ,  52.09 ,  75.   ,  61.   ,\n",
       "        52.   , 105.   , 117.5  ,  58.   ,  70.   , 134.   ,  57.   ,\n",
       "       110.   , 190.   , 110.   , 200.   , 125.   , 205.   ,  70.   ,\n",
       "       125.   , 149.   , 102.   ,  76.   ,  15.   , 125.   ,  49.   ,\n",
       "        92.   ,  28.   ,  42.   ,  75.   ,  75.   ,  58.   , 115.   ,\n",
       "        58.   ,  56.   ,  72.   ,  47.25 ,  72.   , 185.   ,  90.   ,\n",
       "        73.   ,  68.   , 110.   ,  85.   , 145.   ,  85.   ,  87.   ,\n",
       "        88.   ,  80.   , 185.   , 225.   , 100.   ,  53.   ,  85.   ,\n",
       "        73.   , 135.   ,  55.   , 125.   ,  38.   ,  37.   ,  95.   ,\n",
       "       140.   , 700.   ,  64.   , 115.   , 125.   , 150.   ,  15.   ,\n",
       "        55.   ,  78.   ,  45.   ,  66.   ,  98.   ,  75.   , 140.   ,\n",
       "        65.   ,  92.   ,  54.   , 165.   ,  40.   ,  80.   , 225.   ,\n",
       "       158.   , 150.   , 110.   , 150.   ,  82.   ,  56.   ,  85.   ,\n",
       "        75.   , 110.   ,  75.   , 100.   ,  88.   ,  34.   ,  90.   ,\n",
       "       135.   , 120.   ,  95.   , 130.   ,  75.5  , 150.   ,  65.   ,\n",
       "        95.   ,  65.   ,  75.   ,  95.   , 130.   ,  67.   ,  80.   ,\n",
       "        25.   , 110.   ,  68.   ,  33.   ,  51.   ,  56.   , 130.   ,\n",
       "        60.   , 130.   , 330.   ,  90.   , 500.   , 100.   ,  95.   ,\n",
       "        70.   , 325.   ,  92.5  ,  70.   , 140.   , 200.   , 130.   ,\n",
       "        40.   ,  80.   ,  74.   , 100.   , 128.   ,  52.   , 115.   ,\n",
       "        62.5  , 120.   ,  55.   ,  55.   ,  55.   , 110.   , 250.   ,\n",
       "       110.   ,  97.   ,  66.25 , 145.   , 135.   , 140.   , 100.   ,\n",
       "        85.   ,  90.   ,  66.25 , 120.   , 120.   ,  90.   , 334.   ,\n",
       "        65.   , 158.   , 374.02 ,  62.27 , 270.   , 200.   ,  80.   ,\n",
       "        54.   ,  54.   ,  31.   ,  65.   ,  65.   , 130.   ,  31.   ,\n",
       "        33.   ,  64.   ,  50.   ,  85.   ,  72.   ,  45.   ,  45.   ,\n",
       "        48.   ,  37.   ,  70.   , 125.   ,  43.   ,  52.   ,  52.   ,\n",
       "        50.   ,  60.   ,  85.   ,  71.75 ,  72.   ,  72.   , 110.   ,\n",
       "        72.   ,  95.   , 120.   , 120.   ,  64.   , 120.   , 120.   ,\n",
       "       290.   ,  72.   ,  64.   ,  91.   ,  68.   ,  74.   ,  91.   ,\n",
       "        91.   ,  70.   , 215.   ,  42.   ,  42.   ,  45.   ,  45.   ,\n",
       "        60.   ,  54.   ,  50.   , 320.   , 109.995, 109.995, 120.   ,\n",
       "        64.   , 200.   , 200.   , 200.   ,  52.   ,  52.   ,  75.   ,\n",
       "       102.5  ,  50.   ,  50.   , 160.   ,  66.   ,  64.   , 120.   ,\n",
       "        56.5  ,  45.   , 127.5  ,  75.   ,  64.   ,  72.   , 127.5  ,\n",
       "        72.   ,  75.   ,  75.   ,  72.   ,  56.   ,  46.   ,  85.   ,\n",
       "        46.   ,  42.   ,  44.   ,  72.   , 175.   ,  58.   ,  65.   ,\n",
       "       230.   ,  62.   ,  75.   , 157.5  , 125.   ,  85.   , 400.   ,\n",
       "        55.   , 120.   , 120.   ,  58.   ,  53.   , 110.   , 380.   ,\n",
       "       150.   , 385.   ,  58.   ,  85.   ,  71.   ,  85.   , 147.5  ,\n",
       "        56.5  ,  55.   , 128.   , 110.   ,  56.   ,  50.   , 120.   ,\n",
       "       130.   ,  45.   , 110.   , 118.   ,  60.   ,  64.86 , 102.5  ,\n",
       "       134.7  ,  54.2  ,  72.   , 128.   ,  32.   ,  58.87 ,  83.25 ,\n",
       "        85.   ,  75.   ,  43.5  , 100.   , 180.   ,  95.   , 110.   ,\n",
       "        67.   , 150.   ,  67.   , 120.   , 140.   ,  56.5  , 100.   ,\n",
       "        71.   ,  66.25 ,  70.   , 120.   ,  72.53 ,  40.   ,  43.5  ,\n",
       "        70.   ,  75.   , 115.5  ,  97.   ,  45.   , 135.   ,  97.   ,\n",
       "        70.   ,  45.   ,  70.   ,  51.625,  56.5  ,  36.29 ,  52.   ,\n",
       "       182.   ,  43.015, 117.5  , 200.   ,  60.   ,  45.   ,  30.   ,\n",
       "        31.   ,  43.015, 140.   ,  81.   , 134.7  ,  64.   ,  50.   ,\n",
       "        85.   ,  85.   ,  81.   ,  95.   , 120.   , 137.   , 250.   ,\n",
       "        71.5  ,  60.   ,  75.   ,  68.   ,  56.93 ,  71.75 ,  70.   ,\n",
       "        45.   , 250.   ,  90.   ,  42.   ,  60.   ,  60.   ,  70.   ,\n",
       "        70.   ,  83.25 , 100.   , 119.99 ,  25.   ,  64.   ,  50.   ,\n",
       "       120.   , 120.   , 120.   ,  95.   ,  75.   ,  65.   ,  85.   ,\n",
       "       147.5  ,  72.   ,  45.   ,  33.   , 145.   ,  85.   , 157.5  ,\n",
       "       135.   , 185.   , 155.   ,  45.   , 220.   , 165.   ,  72.   ,\n",
       "        64.   ,  92.24 , 110.   , 150.   , 160.   , 105.   , 150.   ,\n",
       "        64.   , 160.   , 160.   , 160.   , 150.   , 150.   , 150.   ,\n",
       "       160.   , 129.91 ,  72.   ,  42.   ,  97.   , 120.   , 150.   ,\n",
       "        73.5  ,  66.44 ,  46.   ,  37.38 ,  39.64 ,  59.5  ,  47.25 ,\n",
       "        69.   ,  59.24 , 100.   ,  64.   ,  70.   ,  64.   , 130.   ,\n",
       "        64.   ,  50.   ,  58.   ,  85.   ,  42.   ,  62.79 ,  58.39 ,\n",
       "        51.625,  66.1  , 150.   ,  50.4  , 160.   ,  96.75 , 108.14 ,\n",
       "        63.25 ,  79.16 ,  52.93 , 105.3  ,  96.75 ])"
      ]
     },
     "execution_count": 458,
     "metadata": {},
     "output_type": "execute_result"
    }
   ],
   "source": [
    "gs.predict(X)"
   ]
  },
  {
   "cell_type": "code",
   "execution_count": 446,
   "metadata": {},
   "outputs": [
    {
     "ename": "IndexError",
     "evalue": "index 0 is out of bounds for axis 0 with size 0",
     "output_type": "error",
     "traceback": [
      "\u001b[1;31m---------------------------------------------------------------------------\u001b[0m",
      "\u001b[1;31mIndexError\u001b[0m                                Traceback (most recent call last)",
      "\u001b[1;32m<ipython-input-446-20ded337b793>\u001b[0m in \u001b[0;36m<module>\u001b[1;34m\u001b[0m\n\u001b[1;32m----> 1\u001b[1;33m \u001b[0mpredict_price\u001b[0m\u001b[1;33m(\u001b[0m\u001b[1;36m2\u001b[0m\u001b[1;33m,\u001b[0m\u001b[1;36m1600\u001b[0m\u001b[1;33m,\u001b[0m\u001b[1;36m400\u001b[0m\u001b[1;33m,\u001b[0m\u001b[1;36m2\u001b[0m\u001b[1;33m)\u001b[0m\u001b[1;33m\u001b[0m\u001b[1;33m\u001b[0m\u001b[0m\n\u001b[0m",
      "\u001b[1;32m<ipython-input-443-927c9e4dce3f>\u001b[0m in \u001b[0;36mpredict_price\u001b[1;34m(location, sqft, bath, bhk)\u001b[0m\n\u001b[0;32m      1\u001b[0m \u001b[1;32mdef\u001b[0m \u001b[0mpredict_price\u001b[0m\u001b[1;33m(\u001b[0m\u001b[0mlocation\u001b[0m\u001b[1;33m,\u001b[0m\u001b[0msqft\u001b[0m\u001b[1;33m,\u001b[0m\u001b[0mbath\u001b[0m\u001b[1;33m,\u001b[0m\u001b[0mbhk\u001b[0m\u001b[1;33m)\u001b[0m\u001b[1;33m:\u001b[0m\u001b[1;33m\u001b[0m\u001b[1;33m\u001b[0m\u001b[0m\n\u001b[1;32m----> 2\u001b[1;33m     \u001b[0mloc_index\u001b[0m \u001b[1;33m=\u001b[0m \u001b[0mnp\u001b[0m\u001b[1;33m.\u001b[0m\u001b[0mwhere\u001b[0m\u001b[1;33m(\u001b[0m\u001b[0mX\u001b[0m\u001b[1;33m.\u001b[0m\u001b[0mcolumns\u001b[0m\u001b[1;33m==\u001b[0m\u001b[0mlocation\u001b[0m\u001b[1;33m)\u001b[0m\u001b[1;33m[\u001b[0m\u001b[1;36m0\u001b[0m\u001b[1;33m]\u001b[0m\u001b[1;33m[\u001b[0m\u001b[1;36m0\u001b[0m\u001b[1;33m]\u001b[0m\u001b[1;33m\u001b[0m\u001b[1;33m\u001b[0m\u001b[0m\n\u001b[0m\u001b[0;32m      3\u001b[0m \u001b[1;33m\u001b[0m\u001b[0m\n\u001b[0;32m      4\u001b[0m     \u001b[0mx\u001b[0m \u001b[1;33m=\u001b[0m \u001b[0mnp\u001b[0m\u001b[1;33m.\u001b[0m\u001b[0mzeros\u001b[0m\u001b[1;33m(\u001b[0m\u001b[0mlen\u001b[0m\u001b[1;33m(\u001b[0m\u001b[0mX\u001b[0m\u001b[1;33m.\u001b[0m\u001b[0mcolumns\u001b[0m\u001b[1;33m)\u001b[0m\u001b[1;33m)\u001b[0m\u001b[1;33m\u001b[0m\u001b[1;33m\u001b[0m\u001b[0m\n\u001b[0;32m      5\u001b[0m     \u001b[0mx\u001b[0m\u001b[1;33m[\u001b[0m\u001b[1;36m0\u001b[0m\u001b[1;33m]\u001b[0m \u001b[1;33m=\u001b[0m \u001b[0msqft\u001b[0m\u001b[1;33m\u001b[0m\u001b[1;33m\u001b[0m\u001b[0m\n",
      "\u001b[1;31mIndexError\u001b[0m: index 0 is out of bounds for axis 0 with size 0"
     ]
    }
   ],
   "source": [
    "predict_price(2,1600,400,2)"
   ]
  },
  {
   "cell_type": "code",
   "execution_count": 415,
   "metadata": {},
   "outputs": [
    {
     "data": {
      "text/plain": [
       "Index(['Beds', 'Area', 'PricePerSqft'], dtype='object')"
      ]
     },
     "execution_count": 415,
     "metadata": {},
     "output_type": "execute_result"
    }
   ],
   "source": []
  },
  {
   "cell_type": "code",
   "execution_count": null,
   "metadata": {},
   "outputs": [],
   "source": []
  }
 ],
 "metadata": {
  "kernelspec": {
   "display_name": "Python 3",
   "language": "python",
   "name": "python3"
  },
  "language_info": {
   "codemirror_mode": {
    "name": "ipython",
    "version": 3
   },
   "file_extension": ".py",
   "mimetype": "text/x-python",
   "name": "python",
   "nbconvert_exporter": "python",
   "pygments_lexer": "ipython3",
   "version": "3.7.4"
  }
 },
 "nbformat": 4,
 "nbformat_minor": 2
}
