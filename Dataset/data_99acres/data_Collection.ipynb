{
 "cells": [
  {
   "cell_type": "code",
   "execution_count": 43,
   "metadata": {},
   "outputs": [],
   "source": [
    "from bs4 import BeautifulSoup\n",
    "from selenium import webdriver\n",
    "import time\n",
    "import pandas as pd\n",
    "import regex\n",
    "\n",
    "from selenium import webdriver\n",
    "from selenium.webdriver.common.keys import Keys\n",
    "from selenium.webdriver.support import expected_conditions as ec\n",
    "from selenium.webdriver.common.by import By\n",
    "from selenium.webdriver.support.wait import WebDriverWait"
   ]
  },
  {
   "cell_type": "code",
   "execution_count": null,
   "metadata": {},
   "outputs": [],
   "source": []
  },
  {
   "cell_type": "code",
   "execution_count": 168,
   "metadata": {},
   "outputs": [
    {
     "name": "stdout",
     "output_type": "stream",
     "text": [
      "<selenium.webdriver.remote.webelement.WebElement (session=\"fceb54ad1aaa311c5d393549bb414909\", element=\"8f643edd-02bb-48c4-8a5f-f49e953892cf\")>\n",
      "Page 1 of 22\n",
      "12345678910\n",
      "Next Page >\n"
     ]
    }
   ],
   "source": [
    "driver = webdriver.Chrome(r\"C:\\Users\\mkart\\OneDrive\\Documents\\Python\\Mysore_Real_Estate_Price\\chromedriver_win32\\chromedriver.exe\")\n",
    "location_list = []\n",
    "area_list = []\n",
    "price_list = []\n",
    "beds_list = []\n",
    "driver.get('https://www.99acres.com/property-in-mysore-ffid?property_type=1,4,2,5')\n",
    "time.sleep(5)\n",
    "total_pages_element = driver.find_element_by_class_name('Pagination__srpPagination')\n",
    "print(total_pages_element)\n",
    "print(total_pages_element.text)\n",
    "total_pages = total_pages_element.text\n",
    "total_pages = total_pages.split('\\n')[0]\n",
    "total_pages = total_pages.split('of')[1]\n",
    "n=21\n",
    "\n",
    "driver.get(f'https://www.99acres.com/property-in-mysore-ffid-page-{n+1}?property_type=1,4,2,5')\n",
    "time.sleep(4)\n",
    "location = driver.find_elements_by_class_name('srpTuple__propertyName')\n",
    "price = driver.find_elements_by_id('srp_tuple_price')\n",
    "beds = driver.find_elements_by_id('srp_tuple_bedroom')\n",
    "area = driver.find_elements_by_id('srp_tuple_primary_area')\n",
    "\n",
    "if len(location) == len(price) == len(beds) == len(area):\n",
    "\n",
    "    for i in range(len(price)):\n",
    "        location_list.append(location[i].text)\n",
    "        beds_list.append(beds[i].text)\n",
    "        price_list.append(price[i].text)\n",
    "        area_list.append(area[i].text)\n",
    "    \n",
    "\n",
    "        \n",
    "        \n"
   ]
  },
  {
   "cell_type": "code",
   "execution_count": 170,
   "metadata": {},
   "outputs": [],
   "source": [
    "data_dict = {}\n"
   ]
  },
  {
   "cell_type": "code",
   "execution_count": 171,
   "metadata": {},
   "outputs": [],
   "source": [
    "data_dict['location'] = location_list"
   ]
  },
  {
   "cell_type": "code",
   "execution_count": 172,
   "metadata": {},
   "outputs": [],
   "source": [
    "data_dict['beds'] = beds_list"
   ]
  },
  {
   "cell_type": "code",
   "execution_count": 173,
   "metadata": {},
   "outputs": [],
   "source": [
    "data_dict['price'] = price_list"
   ]
  },
  {
   "cell_type": "code",
   "execution_count": 174,
   "metadata": {},
   "outputs": [],
   "source": [
    "data_dict['area'] = area_list"
   ]
  },
  {
   "cell_type": "code",
   "execution_count": 175,
   "metadata": {},
   "outputs": [],
   "source": [
    "df1 = pd.DataFrame(data_dict)"
   ]
  },
  {
   "cell_type": "code",
   "execution_count": 176,
   "metadata": {},
   "outputs": [
    {
     "data": {
      "text/html": [
       "<div>\n",
       "<style scoped>\n",
       "    .dataframe tbody tr th:only-of-type {\n",
       "        vertical-align: middle;\n",
       "    }\n",
       "\n",
       "    .dataframe tbody tr th {\n",
       "        vertical-align: top;\n",
       "    }\n",
       "\n",
       "    .dataframe thead th {\n",
       "        text-align: right;\n",
       "    }\n",
       "</style>\n",
       "<table border=\"1\" class=\"dataframe\">\n",
       "  <thead>\n",
       "    <tr style=\"text-align: right;\">\n",
       "      <th></th>\n",
       "      <th>location</th>\n",
       "      <th>beds</th>\n",
       "      <th>price</th>\n",
       "      <th>area</th>\n",
       "    </tr>\n",
       "  </thead>\n",
       "  <tbody>\n",
       "    <tr>\n",
       "      <td>0</td>\n",
       "      <td>2 Bedroom Independent House in 2nd Stage BEML ...</td>\n",
       "      <td>2 BHK\\n2 Baths</td>\n",
       "      <td>₹ 80 Lac\\n₹ 7,916/sq.ft.</td>\n",
       "      <td>1,200 sq.ft.\\n(111 sq.m.) Plot Area</td>\n",
       "    </tr>\n",
       "    <tr>\n",
       "      <td>1</td>\n",
       "      <td>2 BHK Residential Apartment in Vijayanagar</td>\n",
       "      <td>2 BHK\\n2 Baths</td>\n",
       "      <td>₹ 40 Lac\\n₹ 3,810/sq.ft.</td>\n",
       "      <td>1,050 sq.ft.\\n(98 sq.m.) Built-up Area</td>\n",
       "    </tr>\n",
       "    <tr>\n",
       "      <td>2</td>\n",
       "      <td>1 Bedroom Independent House in 2nd Stage Vijay...</td>\n",
       "      <td>1 BHK\\n1 Bath</td>\n",
       "      <td>₹ 22.5 Lac\\n₹ 5,806/sq.ft.</td>\n",
       "      <td>387 sq.ft.\\n(36 sq.m.) Plot Area</td>\n",
       "    </tr>\n",
       "    <tr>\n",
       "      <td>3</td>\n",
       "      <td>5 Bedroom Independent House in Vijaya nagar</td>\n",
       "      <td>5 BHK\\n3 Baths</td>\n",
       "      <td>₹ 90 Lac\\n₹ 3,750/sq.ft.</td>\n",
       "      <td>2,400 sq.ft.\\n(223 sq.m.) Plot Area</td>\n",
       "    </tr>\n",
       "    <tr>\n",
       "      <td>4</td>\n",
       "      <td>3 Bedroom Independent House in Vijaynagar</td>\n",
       "      <td>3 BHK\\n4 Baths</td>\n",
       "      <td>₹ 1.2 Cr\\n₹ 3,716/sq.ft.</td>\n",
       "      <td>3,229 sq.ft.\\n(300 sq.m.) Built-up Area</td>\n",
       "    </tr>\n",
       "  </tbody>\n",
       "</table>\n",
       "</div>"
      ],
      "text/plain": [
       "                                            location            beds  \\\n",
       "0  2 Bedroom Independent House in 2nd Stage BEML ...  2 BHK\\n2 Baths   \n",
       "1         2 BHK Residential Apartment in Vijayanagar  2 BHK\\n2 Baths   \n",
       "2  1 Bedroom Independent House in 2nd Stage Vijay...   1 BHK\\n1 Bath   \n",
       "3        5 Bedroom Independent House in Vijaya nagar  5 BHK\\n3 Baths   \n",
       "4          3 Bedroom Independent House in Vijaynagar  3 BHK\\n4 Baths   \n",
       "\n",
       "                        price                                     area  \n",
       "0    ₹ 80 Lac\\n₹ 7,916/sq.ft.      1,200 sq.ft.\\n(111 sq.m.) Plot Area  \n",
       "1    ₹ 40 Lac\\n₹ 3,810/sq.ft.   1,050 sq.ft.\\n(98 sq.m.) Built-up Area  \n",
       "2  ₹ 22.5 Lac\\n₹ 5,806/sq.ft.         387 sq.ft.\\n(36 sq.m.) Plot Area  \n",
       "3    ₹ 90 Lac\\n₹ 3,750/sq.ft.      2,400 sq.ft.\\n(223 sq.m.) Plot Area  \n",
       "4    ₹ 1.2 Cr\\n₹ 3,716/sq.ft.  3,229 sq.ft.\\n(300 sq.m.) Built-up Area  "
      ]
     },
     "execution_count": 176,
     "metadata": {},
     "output_type": "execute_result"
    }
   ],
   "source": [
    "df1.head()"
   ]
  },
  {
   "cell_type": "code",
   "execution_count": 166,
   "metadata": {},
   "outputs": [],
   "source": [
    "#df.to_csv('data.csv',index=False)"
   ]
  },
  {
   "cell_type": "code",
   "execution_count": 177,
   "metadata": {},
   "outputs": [],
   "source": [
    "frames = [df, df1]"
   ]
  },
  {
   "cell_type": "code",
   "execution_count": 179,
   "metadata": {},
   "outputs": [],
   "source": [
    "data_combined = pd.concat(frames) "
   ]
  },
  {
   "cell_type": "code",
   "execution_count": 180,
   "metadata": {},
   "outputs": [
    {
     "data": {
      "text/plain": [
       "(559, 4)"
      ]
     },
     "execution_count": 180,
     "metadata": {},
     "output_type": "execute_result"
    }
   ],
   "source": [
    "data_combined.shape"
   ]
  },
  {
   "cell_type": "code",
   "execution_count": 181,
   "metadata": {},
   "outputs": [
    {
     "data": {
      "text/plain": [
       "(545, 4)"
      ]
     },
     "execution_count": 181,
     "metadata": {},
     "output_type": "execute_result"
    }
   ],
   "source": [
    "df.shape"
   ]
  },
  {
   "cell_type": "code",
   "execution_count": 184,
   "metadata": {},
   "outputs": [],
   "source": [
    "data_combined.to_csv('data.csv',index=False)"
   ]
  },
  {
   "cell_type": "code",
   "execution_count": null,
   "metadata": {},
   "outputs": [],
   "source": []
  }
 ],
 "metadata": {
  "kernelspec": {
   "display_name": "Python 3",
   "language": "python",
   "name": "python3"
  },
  "language_info": {
   "codemirror_mode": {
    "name": "ipython",
    "version": 3
   },
   "file_extension": ".py",
   "mimetype": "text/x-python",
   "name": "python",
   "nbconvert_exporter": "python",
   "pygments_lexer": "ipython3",
   "version": "3.7.4"
  }
 },
 "nbformat": 4,
 "nbformat_minor": 2
}
